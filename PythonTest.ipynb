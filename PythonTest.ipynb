{
  "nbformat": 4,
  "nbformat_minor": 0,
  "metadata": {
    "colab": {
      "name": "PythonTest.ipynb",
      "provenance": [],
      "include_colab_link": true
    },
    "kernelspec": {
      "name": "python3",
      "display_name": "Python 3"
    }
  },
  "cells": [
    {
      "cell_type": "markdown",
      "metadata": {
        "id": "view-in-github",
        "colab_type": "text"
      },
      "source": [
        "<a href=\"https://colab.research.google.com/github/JukkaM87/Jukka/blob/master/PythonTest.ipynb\" target=\"_parent\"><img src=\"https://colab.research.google.com/assets/colab-badge.svg\" alt=\"Open In Colab\"/></a>"
      ]
    },
    {
      "cell_type": "code",
      "metadata": {
        "id": "8Clgd-2uOQ6Z",
        "colab_type": "code",
        "colab": {
          "base_uri": "https://localhost:8080/",
          "height": 35
        },
        "outputId": "475899fd-a70e-4cce-aa7e-a61ceaabe8a1"
      },
      "source": [
        "# Python coding task\n",
        "# Create this and add it to github\n",
        "\n",
        "# Add necessary imports here\n",
        "import datetime\n",
        "import json\n",
        "import zipfile\n",
        "from google.colab import drive\n",
        "drive.mount('/content/drive')\n",
        "import os"
      ],
      "execution_count": 54,
      "outputs": [
        {
          "output_type": "stream",
          "text": [
            "Drive already mounted at /content/drive; to attempt to forcibly remount, call drive.mount(\"/content/drive\", force_remount=True).\n"
          ],
          "name": "stdout"
        }
      ]
    },
    {
      "cell_type": "code",
      "metadata": {
        "id": "EZQnApMytZR_",
        "colab_type": "code",
        "colab": {}
      },
      "source": [
        "#functions\n",
        "def destroyfile(filename):\n",
        "  if os.path.exists(\"myfile.json\"):\n",
        "      os.remove(\"myfile.json\")\n",
        "      print(\"myfile.json destroyed!\")\n",
        "  else:\n",
        "      print(\"myfile.json does not exist\")"
      ],
      "execution_count": 0,
      "outputs": []
    },
    {
      "cell_type": "code",
      "metadata": {
        "id": "a1YncBbDtZXF",
        "colab_type": "code",
        "colab": {}
      },
      "source": [
        "# Step 1: Get sentence to be handled\n",
        "sentence = input(\"Enter your sentence: \")\n",
        "print(sentence)"
      ],
      "execution_count": 0,
      "outputs": []
    },
    {
      "cell_type": "code",
      "metadata": {
        "id": "dOyprfYvtZeW",
        "colab_type": "code",
        "colab": {}
      },
      "source": [
        "# Step 2: Create a timestamp\n",
        "timestamp = str (datetime.datetime.now(datetime.timezone.utc))\n",
        "print(timestamp)"
      ],
      "execution_count": 0,
      "outputs": []
    },
    {
      "cell_type": "code",
      "metadata": {
        "id": "ElkENH8ltZk0",
        "colab_type": "code",
        "colab": {}
      },
      "source": [
        "# Step 3: Add sentence and time stamp to object\n",
        "myobject = {\n",
        "    \"mysentence\" : sentence, \n",
        "    \"mytimestamp\" : timestamp\n",
        "}\n",
        "print(myobject)"
      ],
      "execution_count": 0,
      "outputs": []
    },
    {
      "cell_type": "code",
      "metadata": {
        "id": "C_5FyAIltZqL",
        "colab_type": "code",
        "colab": {}
      },
      "source": [
        "# Step 4: convert object to JSON \n",
        "jsonobject = json.dumps(myobject)\n",
        "print(jsonobject)"
      ],
      "execution_count": 0,
      "outputs": []
    },
    {
      "cell_type": "code",
      "metadata": {
        "id": "wEL1INSCtZwM",
        "colab_type": "code",
        "colab": {}
      },
      "source": [
        "# Step 5: Save JSON object as myfile.json\n",
        "f = open(\"myfile.json\", \"w\")\n",
        "\n",
        "# write JSON object to file and close file\n",
        "f.write(jsonobject)\n",
        "f.close()"
      ],
      "execution_count": 0,
      "outputs": []
    },
    {
      "cell_type": "code",
      "metadata": {
        "id": "b88fZoKotZ0e",
        "colab_type": "code",
        "colab": {}
      },
      "source": [
        "# Step 6: compress JSON object to zip\n",
        "archive = zipfile.ZipFile('Archive.zip', mode = 'w')\n",
        "try:\n",
        "  archive.write(\"myfile.json\")\n",
        "  print('Files added to zipfile')\n",
        "finally:\n",
        "  print('Reading files now')\n",
        "  archive.close()\n",
        "\n",
        "# --- and now vice versa!"
      ],
      "execution_count": 0,
      "outputs": []
    },
    {
      "cell_type": "code",
      "metadata": {
        "id": "40X9fjnWtZ39",
        "colab_type": "code",
        "colab": {}
      },
      "source": [
        "# Step 7: Destroy the JSON file\n",
        "destroyfile(\"myfile.json\")\n",
        "\n",
        "unarchive = zipfile.ZipFile(\"Archive.zip\", \"r\")\n",
        "try:\n",
        "  unarchive.extractall()\n",
        "  print('File extracted from zipfile')\n",
        "finally:\n",
        "  unarchive.close()\n",
        "  print('File extraction finished')\n",
        "\n",
        "destroyfile(\"Archive.zip\")"
      ],
      "execution_count": 0,
      "outputs": []
    },
    {
      "cell_type": "code",
      "metadata": {
        "id": "L0Ob-t8QulKL",
        "colab_type": "code",
        "colab": {}
      },
      "source": [
        "# Step 8: Read JSON object from JSON file\n",
        "fout = open(\"myfile.json\", \"r\")\n",
        "\n",
        "jsonobjectout = fout.read()\n",
        "fout.close()\n",
        "print(jsonobjectout)\n",
        "\n",
        "destroyfile(\"myfile.json\")"
      ],
      "execution_count": 0,
      "outputs": []
    },
    {
      "cell_type": "code",
      "metadata": {
        "id": "5HlmUENZviSm",
        "colab_type": "code",
        "colab": {}
      },
      "source": [
        "# Step 9: change JSON object into object\n",
        "myobject = json.loads(jsonobjectout)\n",
        "print(myobjectout)"
      ],
      "execution_count": 0,
      "outputs": []
    },
    {
      "cell_type": "code",
      "metadata": {
        "id": "6LQYEWYqv-JN",
        "colab_type": "code",
        "colab": {}
      },
      "source": [
        "# Step 10: Print object line\n",
        "print(myobjectout[\"mysentence\"])"
      ],
      "execution_count": 0,
      "outputs": []
    }
  ]
}